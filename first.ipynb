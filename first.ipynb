{
 "cells": [
  {
   "cell_type": "markdown",
   "metadata": {},
   "source": [
    "# 如何使用Ipython notebook"
   ]
  },
  {
   "cell_type": "markdown",
   "metadata": {
    "collapsed": true
   },
   "source": [
    "[1.ipython notebook安装](#1)<br>\n",
    "[2.使用技巧](#2)<br>\n",
    "[3.导出PDF](#3)<br>\n",
    ">[3.1.安装pandoc](#4)<br>\n",
    ">[3.1.安装LaTeX](#4)<br>"
   ]
  },
  {
   "cell_type": "markdown",
   "metadata": {},
   "source": [
    "<h1 id = \"1\">1.ipython notebook 安装</h1>\n",
    "\n",
    "参考<a href = \"http://my.oschina.net/u/1431433/blog/189337\">这里</a>有详细的教程\n",
    "安装完之后，默认路径里面可能有很多不是你要的东西。可以自己创建新的笔记路径\n",
    "```shell\n",
    "cd yourdir //从命令行进入你的笔记本目录\n",
    "ipython.exe notebook//打开notebook\n",
    "```\n",
    "<img src=\"http://i4.tietuku.com/207d5cd0d4b2e29b.jpg\">\n",
    "\n",
    "(这里插一句，markdown中插入图片的技巧，插入本地图片目前还没看到有什么比较好用的方法。但是，markdown是支持html的，因此只要将本地图片上传到网络，就可以<img src = \"\"> 显示出来。个人觉得比较好用的图床 <a href = \"http://www.1365tu.com/\"> 戳这里 </a> 不需要注册直接打开网页，拖拽就行)\n",
    "\n",
    "关于Markdown的使用可以参考 <a href = \"http://wowubuntu.com/markdown/#img\">这里 </a>"
   ]
  },
  {
   "cell_type": "markdown",
   "metadata": {},
   "source": [
    "<h1 id = \"2\">2.使用技巧</h1>\n",
    "\n",
    "如果每次使用notebook都需要打开命令行进入路径然后ipython.exe notebook 启动实际上很不方便，因此我在笔记目录下做了一个bat，将快捷方式放到桌面上，以后只需要双击快捷方式就可以了。\n",
    "```shell\n",
    "@echo off \n",
    "%1(start /min cmd.exe /c %0 :&exit)::让cmd窗口最小化\n",
    "E:\n",
    "cd ipythonNoteBook::这是我的笔记路径\n",
    "ipython.exe notebook\n",
    "```\n",
    "为了更美观，我找了一个icon给这个快捷方式\n",
    "<img src = \"http://demo.sc.chinaz.com/Files/pic/iconsico/5992/f10.ico\">\n",
    "For windows\n",
    "1. There is a package installer at pandoc's <a href = \"https://github.com/jgm/pandoc/releases/tag/1.15.2\">download page</a>.\n",
    "2. For PDF output, you will need to install LaTeX. We recommend <a href = \"http://miktex.org/download\">MikTeX</a>.\n",
    "\n",
    "在平时的论文中可能会使用大量的公式如：\n",
    "$$sigmoid(x) = \\dfrac{1}{1 + e^{-x}}$$\n",
    "markdown支持laTex 因此非常好用\n"
   ]
  },
  {
   "cell_type": "markdown",
   "metadata": {
    "collapsed": true
   },
   "source": [
    "<h1 id = '3'>3.倒出PDF</h1>\n",
    "\n",
    "对于做机器学习的人来说，这是非常值的。因为note book可以直接跑python的代码，可以直接将运行结果（包括matplot 画的图）直接展示在你的文档中。\n",
    "但是将ipython notebook文件转换成pdf需要安装pandoc 和 LaTeX。如果你是在windos下使用的话，还会面临许多\n"
   ]
  }
 ],
 "metadata": {
  "kernelspec": {
   "display_name": "Python 2",
   "language": "python",
   "name": "python2"
  },
  "language_info": {
   "codemirror_mode": {
    "name": "ipython",
    "version": 2
   },
   "file_extension": ".py",
   "mimetype": "text/x-python",
   "name": "python",
   "nbconvert_exporter": "python",
   "pygments_lexer": "ipython2",
   "version": "2.7.10"
  }
 },
 "nbformat": 4,
 "nbformat_minor": 0
}
